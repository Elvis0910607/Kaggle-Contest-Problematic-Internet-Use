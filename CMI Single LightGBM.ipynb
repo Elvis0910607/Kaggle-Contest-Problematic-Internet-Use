{
 "cells": [
  {
   "cell_type": "code",
   "execution_count": 1,
   "id": "5a5e2104",
   "metadata": {
    "execution": {
     "iopub.execute_input": "2025-02-05T14:27:31.609826Z",
     "iopub.status.busy": "2025-02-05T14:27:31.609422Z",
     "iopub.status.idle": "2025-02-05T14:27:36.336443Z",
     "shell.execute_reply": "2025-02-05T14:27:36.335065Z"
    },
    "papermill": {
     "duration": 4.739041,
     "end_time": "2025-02-05T14:27:36.339196",
     "exception": false,
     "start_time": "2025-02-05T14:27:31.600155",
     "status": "completed"
    },
    "tags": []
   },
   "outputs": [],
   "source": [
    "import os\n",
    "import random\n",
    "from tqdm import tqdm\n",
    "from pathlib import Path\n",
    "from concurrent.futures import ThreadPoolExecutor\n",
    "\n",
    "import numpy as np\n",
    "import pandas as pd\n",
    "\n",
    "from sklearn.metrics import make_scorer\n",
    "from sklearn.metrics import cohen_kappa_score\n",
    "from sklearn.model_selection import StratifiedKFold\n",
    "from sklearn.model_selection import cross_val_score\n",
    "from sklearn.model_selection import cross_val_predict\n",
    "from sklearn.preprocessing import OrdinalEncoder\n",
    "from sklearn.ensemble import VotingRegressor\n",
    "from sklearn.impute import SimpleImputer\n",
    "\n",
    "from scipy.optimize import minimize\n",
    "import optuna\n",
    "\n",
    "import lightgbm as lgb\n",
    "\n",
    "import warnings\n",
    "warnings.filterwarnings('ignore')\n",
    "\n",
    "\n",
    "SEED = 42\n",
    "\n",
    "KAPPA_SCORER = make_scorer(\n",
    "    cohen_kappa_score, \n",
    "    greater_is_better=True, \n",
    "    weights='quadratic',\n",
    ")"
   ]
  },
  {
   "cell_type": "code",
   "execution_count": 2,
   "id": "14b96c83",
   "metadata": {
    "execution": {
     "iopub.execute_input": "2025-02-05T14:27:36.356625Z",
     "iopub.status.busy": "2025-02-05T14:27:36.356002Z",
     "iopub.status.idle": "2025-02-05T14:27:36.367356Z",
     "shell.execute_reply": "2025-02-05T14:27:36.365971Z"
    },
    "papermill": {
     "duration": 0.0229,
     "end_time": "2025-02-05T14:27:36.370074",
     "exception": false,
     "start_time": "2025-02-05T14:27:36.347174",
     "status": "completed"
    },
    "tags": []
   },
   "outputs": [],
   "source": [
    "def lgb_objective(trial):\n",
    "    params = {\n",
    "        'objective':         'l2',\n",
    "        'verbosity':         -1,\n",
    "        'n_iter':            200,\n",
    "        'random_state':      SEED,\n",
    "        'boosting_type':     'gbdt',\n",
    "        'lambda_l1':         trial.suggest_float('lambda_l1', 1e-3, 10.0, log=True),\n",
    "        'lambda_l2':         trial.suggest_float('lambda_l2', 1e-3, 10.0, log=True),\n",
    "        'learning_rate':     trial.suggest_float('learning_rate', 1e-2, 1e-1, log=True),\n",
    "        'max_depth':         trial.suggest_int('max_depth', 4, 8),\n",
    "        'num_leaves':        trial.suggest_int('num_leaves', 16, 256),\n",
    "        'colsample_bytree':  trial.suggest_float('colsample_bytree', 0.4, 1.0),\n",
    "        'colsample_bynode':  trial.suggest_float('colsample_bynode', 0.4, 1.0),\n",
    "        'bagging_fraction':  trial.suggest_float('bagging_fraction', 0.4, 1.0),\n",
    "        'bagging_freq':      trial.suggest_int('bagging_freq', 1, 7),\n",
    "        'min_data_in_leaf':  trial.suggest_int('min_data_in_leaf', 5, 100),\n",
    "    }\n",
    "    \n",
    "    X = df_train[feature_cols]\n",
    "    y = df_train[target_col]\n",
    "    cv = StratifiedKFold(5, shuffle=True, random_state=SEED)\n",
    "    estimator = CustomLGBMRegressor(**params)\n",
    "\n",
    "    val_scores = cross_val_score(\n",
    "        estimator=estimator, \n",
    "        X=X, y=y, \n",
    "        cv=cv, \n",
    "        scoring=KAPPA_SCORER,\n",
    "    )\n",
    "\n",
    "    return np.mean(val_scores)"
   ]
  },
  {
   "cell_type": "code",
   "execution_count": 3,
   "id": "e66bc6ae",
   "metadata": {
    "execution": {
     "iopub.execute_input": "2025-02-05T14:27:36.387823Z",
     "iopub.status.busy": "2025-02-05T14:27:36.387418Z",
     "iopub.status.idle": "2025-02-05T14:27:36.394078Z",
     "shell.execute_reply": "2025-02-05T14:27:36.392682Z"
    },
    "papermill": {
     "duration": 0.018458,
     "end_time": "2025-02-05T14:27:36.396639",
     "exception": false,
     "start_time": "2025-02-05T14:27:36.378181",
     "status": "completed"
    },
    "tags": []
   },
   "outputs": [],
   "source": [
    "def process_file(filename, dirname):\n",
    "    df = pd.read_parquet(os.path.join(dirname, filename, 'part-0.parquet'))\n",
    "    df.drop('step', axis=1, inplace=True)\n",
    "    \n",
    "    return df.describe().values.reshape(-1), filename.split('=')[1]"
   ]
  },
  {
   "cell_type": "code",
   "execution_count": 4,
   "id": "b47bc5dc",
   "metadata": {
    "execution": {
     "iopub.execute_input": "2025-02-05T14:27:36.412992Z",
     "iopub.status.busy": "2025-02-05T14:27:36.412376Z",
     "iopub.status.idle": "2025-02-05T14:27:36.421389Z",
     "shell.execute_reply": "2025-02-05T14:27:36.420039Z"
    },
    "papermill": {
     "duration": 0.020077,
     "end_time": "2025-02-05T14:27:36.424156",
     "exception": false,
     "start_time": "2025-02-05T14:27:36.404079",
     "status": "completed"
    },
    "tags": []
   },
   "outputs": [],
   "source": [
    "def load_time_series(dirname):\n",
    "    ids = os.listdir(dirname)\n",
    "    \n",
    "    with ThreadPoolExecutor() as executor:\n",
    "        results = list(tqdm(executor.map(lambda fname: process_file(fname, dirname), ids), total=len(ids)))\n",
    "    \n",
    "    stats, indexes = zip(*results)\n",
    "    df = pd.DataFrame(stats, columns=[f\"stat_{i}\" for i in range(len(stats[0]))])\n",
    "    df['id'] = indexes\n",
    "    \n",
    "    return df"
   ]
  },
  {
   "cell_type": "code",
   "execution_count": 5,
   "id": "8e292fbd",
   "metadata": {
    "execution": {
     "iopub.execute_input": "2025-02-05T14:27:36.440764Z",
     "iopub.status.busy": "2025-02-05T14:27:36.440324Z",
     "iopub.status.idle": "2025-02-05T14:27:36.447429Z",
     "shell.execute_reply": "2025-02-05T14:27:36.445654Z"
    },
    "papermill": {
     "duration": 0.018877,
     "end_time": "2025-02-05T14:27:36.450117",
     "exception": false,
     "start_time": "2025-02-05T14:27:36.431240",
     "status": "completed"
    },
    "tags": []
   },
   "outputs": [],
   "source": [
    "def quadratic_weighted_kappa(estimator, X, y_true):\n",
    "    y_pred = estimator.predict(X).round()\n",
    "    return cohen_kappa_score(y_true, y_pred, weights='quadratic')"
   ]
  },
  {
   "cell_type": "code",
   "execution_count": 6,
   "id": "276e94a9",
   "metadata": {
    "execution": {
     "iopub.execute_input": "2025-02-05T14:27:36.468740Z",
     "iopub.status.busy": "2025-02-05T14:27:36.468295Z",
     "iopub.status.idle": "2025-02-05T14:27:36.475134Z",
     "shell.execute_reply": "2025-02-05T14:27:36.473582Z"
    },
    "papermill": {
     "duration": 0.020638,
     "end_time": "2025-02-05T14:27:36.478726",
     "exception": false,
     "start_time": "2025-02-05T14:27:36.458088",
     "status": "completed"
    },
    "tags": []
   },
   "outputs": [],
   "source": [
    "def threshold_rounder(y_pred, thresholds):\n",
    "    return np.where(y_pred < thresholds[0], 0,\n",
    "                    np.where(y_pred < thresholds[1], 1,\n",
    "                             np.where(y_pred < thresholds[2], 2, 3)))"
   ]
  },
  {
   "cell_type": "code",
   "execution_count": 7,
   "id": "6ae1a9e3",
   "metadata": {
    "execution": {
     "iopub.execute_input": "2025-02-05T14:27:36.496800Z",
     "iopub.status.busy": "2025-02-05T14:27:36.496370Z",
     "iopub.status.idle": "2025-02-05T14:27:36.503544Z",
     "shell.execute_reply": "2025-02-05T14:27:36.501680Z"
    },
    "jupyter": {
     "source_hidden": true
    },
    "papermill": {
     "duration": 0.019582,
     "end_time": "2025-02-05T14:27:36.506494",
     "exception": false,
     "start_time": "2025-02-05T14:27:36.486912",
     "status": "completed"
    },
    "tags": []
   },
   "outputs": [],
   "source": [
    "def eval_preds(thresholds, y_true, y_pred):\n",
    "    y_pred = threshold_rounder(y_pred, thresholds)\n",
    "    score = cohen_kappa_score(y_true, y_pred, weights='quadratic')\n",
    "    return -score"
   ]
  },
  {
   "cell_type": "code",
   "execution_count": 8,
   "id": "90f94292",
   "metadata": {
    "execution": {
     "iopub.execute_input": "2025-02-05T14:27:36.524750Z",
     "iopub.status.busy": "2025-02-05T14:27:36.523239Z",
     "iopub.status.idle": "2025-02-05T14:27:36.534124Z",
     "shell.execute_reply": "2025-02-05T14:27:36.531835Z"
    },
    "papermill": {
     "duration": 0.024074,
     "end_time": "2025-02-05T14:27:36.537779",
     "exception": false,
     "start_time": "2025-02-05T14:27:36.513705",
     "status": "completed"
    },
    "tags": []
   },
   "outputs": [],
   "source": [
    "class CustomLGBMRegressor(lgb.LGBMRegressor):\n",
    "    '''\n",
    "    Custom LightGBM Regressor\n",
    "    \n",
    "    It optimizes threshold values during fitting.\n",
    "    Main goal is preventing overfit on validation data.\n",
    "    '''\n",
    "    def fit(self, X, y, **kwargs):\n",
    "        super().fit(X, y, **kwargs)\n",
    "        y_pred = super().predict(X, **kwargs)\n",
    "        \n",
    "        self.optimizer = minimize(\n",
    "            eval_preds, \n",
    "            x0=[0.5, 1.5, 2.5], \n",
    "            args=(y, y_pred), \n",
    "            method='Nelder-Mead',\n",
    "        )\n",
    "        \n",
    "    def predict(self, X, **kwargs):\n",
    "        y_pred = super().predict(X, **kwargs)\n",
    "        y_pred = threshold_rounder(y_pred, self.optimizer.x)\n",
    "        return y_pred"
   ]
  },
  {
   "cell_type": "code",
   "execution_count": 9,
   "id": "7d18ab3a",
   "metadata": {
    "execution": {
     "iopub.execute_input": "2025-02-05T14:27:36.556175Z",
     "iopub.status.busy": "2025-02-05T14:27:36.555746Z",
     "iopub.status.idle": "2025-02-05T14:27:36.561689Z",
     "shell.execute_reply": "2025-02-05T14:27:36.559958Z"
    },
    "papermill": {
     "duration": 0.01855,
     "end_time": "2025-02-05T14:27:36.564821",
     "exception": false,
     "start_time": "2025-02-05T14:27:36.546271",
     "status": "completed"
    },
    "tags": []
   },
   "outputs": [],
   "source": [
    "root = Path('/kaggle/input/child-mind-institute-problematic-internet-use')"
   ]
  },
  {
   "cell_type": "markdown",
   "id": "32266cbc",
   "metadata": {
    "papermill": {
     "duration": 0.00759,
     "end_time": "2025-02-05T14:27:36.579741",
     "exception": false,
     "start_time": "2025-02-05T14:27:36.572151",
     "status": "completed"
    },
    "tags": []
   },
   "source": [
    "### Tabular Data"
   ]
  },
  {
   "cell_type": "code",
   "execution_count": 10,
   "id": "0e93d172",
   "metadata": {
    "execution": {
     "iopub.execute_input": "2025-02-05T14:27:36.597139Z",
     "iopub.status.busy": "2025-02-05T14:27:36.596744Z",
     "iopub.status.idle": "2025-02-05T14:27:36.702965Z",
     "shell.execute_reply": "2025-02-05T14:27:36.701256Z"
    },
    "papermill": {
     "duration": 0.117034,
     "end_time": "2025-02-05T14:27:36.705421",
     "exception": false,
     "start_time": "2025-02-05T14:27:36.588387",
     "status": "completed"
    },
    "tags": []
   },
   "outputs": [],
   "source": [
    "df_train = pd.read_csv(root / 'train.csv')\n",
    "df_test = pd.read_csv(root / 'test.csv')\n",
    "df_subm = pd.read_csv(root / 'sample_submission.csv', index_col='id')"
   ]
  },
  {
   "cell_type": "markdown",
   "id": "1bfac8c6",
   "metadata": {
    "papermill": {
     "duration": 0.007633,
     "end_time": "2025-02-05T14:27:36.721058",
     "exception": false,
     "start_time": "2025-02-05T14:27:36.713425",
     "status": "completed"
    },
    "tags": []
   },
   "source": [
    "### Time Series Data"
   ]
  },
  {
   "cell_type": "code",
   "execution_count": 11,
   "id": "d0b605da",
   "metadata": {
    "execution": {
     "iopub.execute_input": "2025-02-05T14:27:36.739252Z",
     "iopub.status.busy": "2025-02-05T14:27:36.738683Z",
     "iopub.status.idle": "2025-02-05T14:29:15.373023Z",
     "shell.execute_reply": "2025-02-05T14:29:15.371801Z"
    },
    "papermill": {
     "duration": 98.647011,
     "end_time": "2025-02-05T14:29:15.375925",
     "exception": false,
     "start_time": "2025-02-05T14:27:36.728914",
     "status": "completed"
    },
    "tags": []
   },
   "outputs": [
    {
     "name": "stderr",
     "output_type": "stream",
     "text": [
      "100%|██████████| 996/996 [01:38<00:00, 10.14it/s]\n",
      "100%|██████████| 2/2 [00:00<00:00,  7.93it/s]\n"
     ]
    }
   ],
   "source": [
    "ts_train = load_time_series(root / \"series_train.parquet\")\n",
    "ts_test = load_time_series(root / \"series_test.parquet\")\n",
    "\n",
    "time_series_cols = ts_train.columns.tolist()\n",
    "time_series_cols.remove(\"id\")"
   ]
  },
  {
   "cell_type": "code",
   "execution_count": 12,
   "id": "18dfc77c",
   "metadata": {
    "execution": {
     "iopub.execute_input": "2025-02-05T14:29:15.435414Z",
     "iopub.status.busy": "2025-02-05T14:29:15.434295Z",
     "iopub.status.idle": "2025-02-05T14:29:15.442651Z",
     "shell.execute_reply": "2025-02-05T14:29:15.441415Z"
    },
    "papermill": {
     "duration": 0.042253,
     "end_time": "2025-02-05T14:29:15.444816",
     "exception": false,
     "start_time": "2025-02-05T14:29:15.402563",
     "status": "completed"
    },
    "tags": []
   },
   "outputs": [
    {
     "data": {
      "text/plain": [
       "996"
      ]
     },
     "execution_count": 12,
     "metadata": {},
     "output_type": "execute_result"
    }
   ],
   "source": [
    "len(ts_train)"
   ]
  },
  {
   "cell_type": "markdown",
   "id": "e90db28c",
   "metadata": {
    "papermill": {
     "duration": 0.027051,
     "end_time": "2025-02-05T14:29:15.498578",
     "exception": false,
     "start_time": "2025-02-05T14:29:15.471527",
     "status": "completed"
    },
    "tags": []
   },
   "source": [
    "### Merge Operation"
   ]
  },
  {
   "cell_type": "code",
   "execution_count": 13,
   "id": "8647b32f",
   "metadata": {
    "execution": {
     "iopub.execute_input": "2025-02-05T14:29:15.553646Z",
     "iopub.status.busy": "2025-02-05T14:29:15.553195Z",
     "iopub.status.idle": "2025-02-05T14:29:15.595687Z",
     "shell.execute_reply": "2025-02-05T14:29:15.594572Z"
    },
    "papermill": {
     "duration": 0.073544,
     "end_time": "2025-02-05T14:29:15.598059",
     "exception": false,
     "start_time": "2025-02-05T14:29:15.524515",
     "status": "completed"
    },
    "tags": []
   },
   "outputs": [],
   "source": [
    "df_train = pd.merge(df_train, ts_train, how=\"left\", on='id')\n",
    "df_test = pd.merge(df_test, ts_test, how=\"left\", on='id')\n",
    "\n",
    "df_train = df_train.set_index('id')\n",
    "df_test = df_test.set_index('id')"
   ]
  },
  {
   "cell_type": "markdown",
   "id": "d6f0e16a",
   "metadata": {
    "papermill": {
     "duration": 0.026791,
     "end_time": "2025-02-05T14:29:15.652022",
     "exception": false,
     "start_time": "2025-02-05T14:29:15.625231",
     "status": "completed"
    },
    "tags": []
   },
   "source": [
    "### Global Variables"
   ]
  },
  {
   "cell_type": "code",
   "execution_count": 14,
   "id": "77ef911f",
   "metadata": {
    "execution": {
     "iopub.execute_input": "2025-02-05T14:29:15.707703Z",
     "iopub.status.busy": "2025-02-05T14:29:15.707207Z",
     "iopub.status.idle": "2025-02-05T14:29:15.715537Z",
     "shell.execute_reply": "2025-02-05T14:29:15.714199Z"
    },
    "papermill": {
     "duration": 0.039207,
     "end_time": "2025-02-05T14:29:15.717690",
     "exception": false,
     "start_time": "2025-02-05T14:29:15.678483",
     "status": "completed"
    },
    "tags": []
   },
   "outputs": [],
   "source": [
    "cat_cols = ['Basic_Demos-Enroll_Season', 'CGAS-Season', 'Physical-Season', 'Fitness_Endurance-Season', 'FGC-Season', 'BIA-Season', 'PAQ_A-Season', 'PAQ_C-Season', 'SDS-Season', 'PreInt_EduHx-Season']\n",
    "num_cols = ['Basic_Demos-Age', 'Basic_Demos-Sex', 'CGAS-CGAS_Score', 'Physical-BMI', 'Physical-Height', 'Physical-Weight', 'Physical-Waist_Circumference', 'Physical-Diastolic_BP', 'Physical-HeartRate', 'Physical-Systolic_BP', 'Fitness_Endurance-Max_Stage', 'Fitness_Endurance-Time_Mins', 'Fitness_Endurance-Time_Sec', 'FGC-FGC_CU', 'FGC-FGC_CU_Zone', 'FGC-FGC_GSND', 'FGC-FGC_GSND_Zone', 'FGC-FGC_GSD', 'FGC-FGC_GSD_Zone', 'FGC-FGC_PU', 'FGC-FGC_PU_Zone', 'FGC-FGC_SRL', 'FGC-FGC_SRL_Zone', 'FGC-FGC_SRR', 'FGC-FGC_SRR_Zone', 'FGC-FGC_TL', 'FGC-FGC_TL_Zone', 'BIA-BIA_Activity_Level_num', 'BIA-BIA_BMC', 'BIA-BIA_BMR', 'BIA-BIA_DEE', 'BIA-BIA_ECW', 'BIA-BIA_FFM', 'BIA-BIA_FFMI', 'BIA-BIA_FMI', 'BIA-BIA_Fat', 'BIA-BIA_Frame_num', 'BIA-BIA_ICW', 'BIA-BIA_LDM', 'BIA-BIA_LST', 'BIA-BIA_SMM', 'BIA-BIA_TBW', 'PAQ_A-PAQ_A_Total', 'PAQ_C-PAQ_C_Total', 'SDS-SDS_Total_Raw', 'SDS-SDS_Total_T', 'PreInt_EduHx-computerinternet_hoursday']\n",
    "tabular_cols = ['Basic_Demos-Enroll_Season', 'Basic_Demos-Sex', 'CGAS-Season', 'CGAS-CGAS_Score', 'Physical-Season', 'Physical-BMI',  'Physical-Waist_Circumference', 'Physical-Diastolic_BP', 'Physical-HeartRate', 'Physical-Systolic_BP', 'Fitness_Endurance-Season', 'Fitness_Endurance-Max_Stage', 'Fitness_Endurance-Time_Mins', 'Fitness_Endurance-Time_Sec', 'FGC-Season', 'FGC-FGC_CU', 'FGC-FGC_CU_Zone', 'FGC-FGC_GSND', 'FGC-FGC_GSND_Zone', 'FGC-FGC_GSD', 'FGC-FGC_GSD_Zone', 'FGC-FGC_PU', 'FGC-FGC_PU_Zone', 'FGC-FGC_SRL', 'FGC-FGC_SRL_Zone', 'FGC-FGC_SRR', 'FGC-FGC_SRR_Zone', 'FGC-FGC_TL', 'FGC-FGC_TL_Zone', 'BIA-Season', 'BIA-BIA_Activity_Level_num', 'BIA-BIA_BMC', 'BIA-BIA_BMI', 'BIA-BIA_BMR', 'BIA-BIA_DEE', 'BIA-BIA_ECW', 'BIA-BIA_FFM', 'BIA-BIA_FFMI', 'BIA-BIA_FMI', 'BIA-BIA_Fat', 'BIA-BIA_Frame_num', 'BIA-BIA_ICW', 'BIA-BIA_LDM', 'BIA-BIA_LST', 'BIA-BIA_SMM', 'BIA-BIA_TBW', 'PAQ_A-Season', 'PAQ_A-PAQ_A_Total', 'PAQ_C-Season', 'PAQ_C-PAQ_C_Total', 'SDS-Season', 'SDS-SDS_Total_Raw', 'SDS-SDS_Total_T', 'PreInt_EduHx-Season', 'PreInt_EduHx-computerinternet_hoursday']\n",
    "target_col = 'sii'\n",
    "\n",
    "feature_cols = tabular_cols + time_series_cols\n",
    "num_cols = num_cols + time_series_cols"
   ]
  },
  {
   "cell_type": "markdown",
   "id": "61e17333",
   "metadata": {
    "papermill": {
     "duration": 0.027267,
     "end_time": "2025-02-05T14:29:15.773210",
     "exception": false,
     "start_time": "2025-02-05T14:29:15.745943",
     "status": "completed"
    },
    "tags": []
   },
   "source": [
    "### Drop Rows with Missing Targets"
   ]
  },
  {
   "cell_type": "code",
   "execution_count": 15,
   "id": "4875daed",
   "metadata": {
    "execution": {
     "iopub.execute_input": "2025-02-05T14:29:15.830062Z",
     "iopub.status.busy": "2025-02-05T14:29:15.829638Z",
     "iopub.status.idle": "2025-02-05T14:29:15.841363Z",
     "shell.execute_reply": "2025-02-05T14:29:15.840069Z"
    },
    "papermill": {
     "duration": 0.042294,
     "end_time": "2025-02-05T14:29:15.843851",
     "exception": false,
     "start_time": "2025-02-05T14:29:15.801557",
     "status": "completed"
    },
    "tags": []
   },
   "outputs": [],
   "source": [
    "df_train = df_train.dropna(subset=[target_col])"
   ]
  },
  {
   "cell_type": "markdown",
   "id": "a95e96bd",
   "metadata": {
    "papermill": {
     "duration": 0.02676,
     "end_time": "2025-02-05T14:29:15.897176",
     "exception": false,
     "start_time": "2025-02-05T14:29:15.870416",
     "status": "completed"
    },
    "tags": []
   },
   "source": [
    "### Numeric Value Imputing"
   ]
  },
  {
   "cell_type": "code",
   "execution_count": 16,
   "id": "0b432147",
   "metadata": {
    "execution": {
     "iopub.execute_input": "2025-02-05T14:29:15.952626Z",
     "iopub.status.busy": "2025-02-05T14:29:15.952189Z",
     "iopub.status.idle": "2025-02-05T14:29:16.009436Z",
     "shell.execute_reply": "2025-02-05T14:29:16.008281Z"
    },
    "papermill": {
     "duration": 0.088203,
     "end_time": "2025-02-05T14:29:16.012107",
     "exception": false,
     "start_time": "2025-02-05T14:29:15.923904",
     "status": "completed"
    },
    "tags": []
   },
   "outputs": [],
   "source": [
    "imputer = SimpleImputer(\n",
    "    strategy='mean',\n",
    ")\n",
    "\n",
    "df_train[num_cols] = imputer.fit_transform(df_train[num_cols])\n",
    "df_test[num_cols] = imputer.transform(df_test[num_cols])"
   ]
  },
  {
   "cell_type": "markdown",
   "id": "db1f118a",
   "metadata": {
    "papermill": {
     "duration": 0.027418,
     "end_time": "2025-02-05T14:29:16.066059",
     "exception": false,
     "start_time": "2025-02-05T14:29:16.038641",
     "status": "completed"
    },
    "tags": []
   },
   "source": [
    "### Category Encoding"
   ]
  },
  {
   "cell_type": "code",
   "execution_count": 17,
   "id": "eb3321c4",
   "metadata": {
    "execution": {
     "iopub.execute_input": "2025-02-05T14:29:16.121397Z",
     "iopub.status.busy": "2025-02-05T14:29:16.120971Z",
     "iopub.status.idle": "2025-02-05T14:29:16.158969Z",
     "shell.execute_reply": "2025-02-05T14:29:16.157394Z"
    },
    "papermill": {
     "duration": 0.068714,
     "end_time": "2025-02-05T14:29:16.161600",
     "exception": false,
     "start_time": "2025-02-05T14:29:16.092886",
     "status": "completed"
    },
    "tags": []
   },
   "outputs": [],
   "source": [
    "encoder = OrdinalEncoder(\n",
    "    dtype=np.int32,\n",
    "    handle_unknown='use_encoded_value',\n",
    "    unknown_value=-1,\n",
    "    encoded_missing_value=-2,\n",
    ")\n",
    "\n",
    "df_train[cat_cols] = encoder.fit_transform(df_train[cat_cols])\n",
    "df_train[cat_cols] = df_train[cat_cols].astype('category')\n",
    "\n",
    "df_test[cat_cols] = encoder.transform(df_test[cat_cols])\n",
    "df_test[cat_cols] = df_test[cat_cols].astype('category')"
   ]
  },
  {
   "cell_type": "markdown",
   "id": "59231a31",
   "metadata": {
    "papermill": {
     "duration": 0.027226,
     "end_time": "2025-02-05T14:29:16.214993",
     "exception": false,
     "start_time": "2025-02-05T14:29:16.187767",
     "status": "completed"
    },
    "tags": []
   },
   "source": [
    "### Optuna - Hyperparameter Tuning"
   ]
  },
  {
   "cell_type": "code",
   "execution_count": 18,
   "id": "c86ac0e7",
   "metadata": {
    "execution": {
     "iopub.execute_input": "2025-02-05T14:29:16.269284Z",
     "iopub.status.busy": "2025-02-05T14:29:16.268916Z",
     "iopub.status.idle": "2025-02-05T14:29:16.274455Z",
     "shell.execute_reply": "2025-02-05T14:29:16.273153Z"
    },
    "papermill": {
     "duration": 0.036342,
     "end_time": "2025-02-05T14:29:16.277430",
     "exception": false,
     "start_time": "2025-02-05T14:29:16.241088",
     "status": "completed"
    },
    "tags": []
   },
   "outputs": [],
   "source": [
    "# study = optuna.create_study(direction='maximize', study_name='Regressor')\n",
    "# study.optimize(lgb_objective, n_trials=30, show_progress_bar=True)"
   ]
  },
  {
   "cell_type": "markdown",
   "id": "cf77c21f",
   "metadata": {
    "papermill": {
     "duration": 0.085265,
     "end_time": "2025-02-05T14:29:16.389224",
     "exception": false,
     "start_time": "2025-02-05T14:29:16.303959",
     "status": "completed"
    },
    "tags": []
   },
   "source": [
    "### Tuned Hyperparameters"
   ]
  },
  {
   "cell_type": "code",
   "execution_count": 19,
   "id": "a506fcb8",
   "metadata": {
    "execution": {
     "iopub.execute_input": "2025-02-05T14:29:16.448863Z",
     "iopub.status.busy": "2025-02-05T14:29:16.448442Z",
     "iopub.status.idle": "2025-02-05T14:29:16.455301Z",
     "shell.execute_reply": "2025-02-05T14:29:16.453992Z"
    },
    "papermill": {
     "duration": 0.038325,
     "end_time": "2025-02-05T14:29:16.458340",
     "exception": false,
     "start_time": "2025-02-05T14:29:16.420015",
     "status": "completed"
    },
    "tags": []
   },
   "outputs": [],
   "source": [
    "params = {\n",
    "    'objective'       : 'l2',\n",
    "    'verbosity'       : -1,\n",
    "    'n_iter'          : 200,\n",
    "    'lambda_l1'       : 0.005116829730239727,\n",
    "    'lambda_l2'       : 0.0011520776712645852,\n",
    "    'learning_rate'   : 0.02376367323636638,\n",
    "    'max_depth'       : 5,\n",
    "    'num_leaves'      : 207,\n",
    "    'colsample_bytree': 0.7759862336963801,\n",
    "    'colsample_bynode': 0.5110355095943208,\n",
    "    'bagging_fraction': 0.5485770314992224,\n",
    "    'bagging_freq'    : 7,\n",
    "    'min_data_in_leaf': 78,\n",
    "}\n",
    "\n",
    "model = CustomLGBMRegressor(**params, random_state=SEED)"
   ]
  },
  {
   "cell_type": "markdown",
   "id": "bd1c4f1a",
   "metadata": {
    "papermill": {
     "duration": 0.02646,
     "end_time": "2025-02-05T14:29:16.512688",
     "exception": false,
     "start_time": "2025-02-05T14:29:16.486228",
     "status": "completed"
    },
    "tags": []
   },
   "source": [
    "### Cross Validation"
   ]
  },
  {
   "cell_type": "code",
   "execution_count": 20,
   "id": "df39dde9",
   "metadata": {
    "execution": {
     "iopub.execute_input": "2025-02-05T14:29:16.568643Z",
     "iopub.status.busy": "2025-02-05T14:29:16.568227Z",
     "iopub.status.idle": "2025-02-05T14:29:16.574577Z",
     "shell.execute_reply": "2025-02-05T14:29:16.573350Z"
    },
    "papermill": {
     "duration": 0.036711,
     "end_time": "2025-02-05T14:29:16.576925",
     "exception": false,
     "start_time": "2025-02-05T14:29:16.540214",
     "status": "completed"
    },
    "tags": []
   },
   "outputs": [],
   "source": [
    "df_train['Physical-BMI'] = df_train['Physical-BMI'] /df_train['BIA-BIA_BMI'] "
   ]
  },
  {
   "cell_type": "code",
   "execution_count": 21,
   "id": "56bb0c7a",
   "metadata": {
    "execution": {
     "iopub.execute_input": "2025-02-05T14:29:16.631193Z",
     "iopub.status.busy": "2025-02-05T14:29:16.630825Z",
     "iopub.status.idle": "2025-02-05T14:29:16.659951Z",
     "shell.execute_reply": "2025-02-05T14:29:16.658592Z"
    },
    "papermill": {
     "duration": 0.05947,
     "end_time": "2025-02-05T14:29:16.662622",
     "exception": false,
     "start_time": "2025-02-05T14:29:16.603152",
     "status": "completed"
    },
    "tags": []
   },
   "outputs": [],
   "source": [
    "import pandas as pd\n",
    "from sklearn.decomposition import PCA\n",
    "data = df_train[['Physical-Weight', 'Physical-Height', 'Basic_Demos-Age']].values\n",
    "pca = PCA(n_components=1)\n",
    "df_train['PCA_Physical'] = pca.fit_transform(data)"
   ]
  },
  {
   "cell_type": "code",
   "execution_count": 22,
   "id": "e1cec72d",
   "metadata": {
    "execution": {
     "iopub.execute_input": "2025-02-05T14:29:16.718858Z",
     "iopub.status.busy": "2025-02-05T14:29:16.718454Z",
     "iopub.status.idle": "2025-02-05T14:29:21.099257Z",
     "shell.execute_reply": "2025-02-05T14:29:21.098084Z"
    },
    "papermill": {
     "duration": 4.411731,
     "end_time": "2025-02-05T14:29:21.101823",
     "exception": false,
     "start_time": "2025-02-05T14:29:16.690092",
     "status": "completed"
    },
    "tags": []
   },
   "outputs": [
    {
     "name": "stdout",
     "output_type": "stream",
     "text": [
      "kappa score: 0.4221\n"
     ]
    }
   ],
   "source": [
    "X = df_train[feature_cols]\n",
    "y = df_train[target_col]\n",
    "cv = StratifiedKFold(5, shuffle=True, random_state=SEED)\n",
    "\n",
    "val_scores = cross_val_score(\n",
    "    model, X, y, cv=cv, \n",
    "    scoring=KAPPA_SCORER,\n",
    ")\n",
    "\n",
    "print(f'kappa score: {np.mean(val_scores):.4f}')"
   ]
  },
  {
   "cell_type": "markdown",
   "id": "031be0ed",
   "metadata": {
    "papermill": {
     "duration": 0.028425,
     "end_time": "2025-02-05T14:29:21.157837",
     "exception": false,
     "start_time": "2025-02-05T14:29:21.129412",
     "status": "completed"
    },
    "tags": []
   },
   "source": [
    "### Seed Ensembling"
   ]
  },
  {
   "cell_type": "code",
   "execution_count": 23,
   "id": "b3f394d6",
   "metadata": {
    "execution": {
     "iopub.execute_input": "2025-02-05T14:29:21.213058Z",
     "iopub.status.busy": "2025-02-05T14:29:21.212453Z",
     "iopub.status.idle": "2025-02-05T14:29:21.221264Z",
     "shell.execute_reply": "2025-02-05T14:29:21.220031Z"
    },
    "papermill": {
     "duration": 0.039415,
     "end_time": "2025-02-05T14:29:21.223714",
     "exception": false,
     "start_time": "2025-02-05T14:29:21.184299",
     "status": "completed"
    },
    "tags": []
   },
   "outputs": [],
   "source": [
    "model = VotingRegressor([\n",
    "    ('lgb_0', CustomLGBMRegressor(**params, random_state=12)),\n",
    "    ('lgb_1', CustomLGBMRegressor(**params, random_state=22)),\n",
    "    ('lgb_2', CustomLGBMRegressor(**params, random_state=32)),\n",
    "    ('lgb_3', CustomLGBMRegressor(**params, random_state=42)),\n",
    "    ('lgb_4', CustomLGBMRegressor(**params, random_state=52)),\n",
    "    ('lgb_5', CustomLGBMRegressor(**params, random_state=62)),\n",
    "    ('lgb_6', CustomLGBMRegressor(**params, random_state=72)),\n",
    "    ('lgb_7', CustomLGBMRegressor(**params, random_state=82)),\n",
    "    ('lgb_8', CustomLGBMRegressor(**params, random_state=92)),\n",
    "    ('lgb_9', CustomLGBMRegressor(**params, random_state=102)),\n",
    "])"
   ]
  },
  {
   "cell_type": "markdown",
   "id": "6bd25f06",
   "metadata": {
    "papermill": {
     "duration": 0.026695,
     "end_time": "2025-02-05T14:29:21.278187",
     "exception": false,
     "start_time": "2025-02-05T14:29:21.251492",
     "status": "completed"
    },
    "tags": []
   },
   "source": [
    "### Training"
   ]
  },
  {
   "cell_type": "code",
   "execution_count": 24,
   "id": "fdd86da9",
   "metadata": {
    "execution": {
     "iopub.execute_input": "2025-02-05T14:29:21.335209Z",
     "iopub.status.busy": "2025-02-05T14:29:21.334151Z",
     "iopub.status.idle": "2025-02-05T14:29:31.019833Z",
     "shell.execute_reply": "2025-02-05T14:29:31.018940Z"
    },
    "papermill": {
     "duration": 9.716505,
     "end_time": "2025-02-05T14:29:31.022132",
     "exception": false,
     "start_time": "2025-02-05T14:29:21.305627",
     "status": "completed"
    },
    "tags": []
   },
   "outputs": [
    {
     "data": {
      "text/html": [
       "<style>#sk-container-id-1 {color: black;background-color: white;}#sk-container-id-1 pre{padding: 0;}#sk-container-id-1 div.sk-toggleable {background-color: white;}#sk-container-id-1 label.sk-toggleable__label {cursor: pointer;display: block;width: 100%;margin-bottom: 0;padding: 0.3em;box-sizing: border-box;text-align: center;}#sk-container-id-1 label.sk-toggleable__label-arrow:before {content: \"▸\";float: left;margin-right: 0.25em;color: #696969;}#sk-container-id-1 label.sk-toggleable__label-arrow:hover:before {color: black;}#sk-container-id-1 div.sk-estimator:hover label.sk-toggleable__label-arrow:before {color: black;}#sk-container-id-1 div.sk-toggleable__content {max-height: 0;max-width: 0;overflow: hidden;text-align: left;background-color: #f0f8ff;}#sk-container-id-1 div.sk-toggleable__content pre {margin: 0.2em;color: black;border-radius: 0.25em;background-color: #f0f8ff;}#sk-container-id-1 input.sk-toggleable__control:checked~div.sk-toggleable__content {max-height: 200px;max-width: 100%;overflow: auto;}#sk-container-id-1 input.sk-toggleable__control:checked~label.sk-toggleable__label-arrow:before {content: \"▾\";}#sk-container-id-1 div.sk-estimator input.sk-toggleable__control:checked~label.sk-toggleable__label {background-color: #d4ebff;}#sk-container-id-1 div.sk-label input.sk-toggleable__control:checked~label.sk-toggleable__label {background-color: #d4ebff;}#sk-container-id-1 input.sk-hidden--visually {border: 0;clip: rect(1px 1px 1px 1px);clip: rect(1px, 1px, 1px, 1px);height: 1px;margin: -1px;overflow: hidden;padding: 0;position: absolute;width: 1px;}#sk-container-id-1 div.sk-estimator {font-family: monospace;background-color: #f0f8ff;border: 1px dotted black;border-radius: 0.25em;box-sizing: border-box;margin-bottom: 0.5em;}#sk-container-id-1 div.sk-estimator:hover {background-color: #d4ebff;}#sk-container-id-1 div.sk-parallel-item::after {content: \"\";width: 100%;border-bottom: 1px solid gray;flex-grow: 1;}#sk-container-id-1 div.sk-label:hover label.sk-toggleable__label {background-color: #d4ebff;}#sk-container-id-1 div.sk-serial::before {content: \"\";position: absolute;border-left: 1px solid gray;box-sizing: border-box;top: 0;bottom: 0;left: 50%;z-index: 0;}#sk-container-id-1 div.sk-serial {display: flex;flex-direction: column;align-items: center;background-color: white;padding-right: 0.2em;padding-left: 0.2em;position: relative;}#sk-container-id-1 div.sk-item {position: relative;z-index: 1;}#sk-container-id-1 div.sk-parallel {display: flex;align-items: stretch;justify-content: center;background-color: white;position: relative;}#sk-container-id-1 div.sk-item::before, #sk-container-id-1 div.sk-parallel-item::before {content: \"\";position: absolute;border-left: 1px solid gray;box-sizing: border-box;top: 0;bottom: 0;left: 50%;z-index: -1;}#sk-container-id-1 div.sk-parallel-item {display: flex;flex-direction: column;z-index: 1;position: relative;background-color: white;}#sk-container-id-1 div.sk-parallel-item:first-child::after {align-self: flex-end;width: 50%;}#sk-container-id-1 div.sk-parallel-item:last-child::after {align-self: flex-start;width: 50%;}#sk-container-id-1 div.sk-parallel-item:only-child::after {width: 0;}#sk-container-id-1 div.sk-dashed-wrapped {border: 1px dashed gray;margin: 0 0.4em 0.5em 0.4em;box-sizing: border-box;padding-bottom: 0.4em;background-color: white;}#sk-container-id-1 div.sk-label label {font-family: monospace;font-weight: bold;display: inline-block;line-height: 1.2em;}#sk-container-id-1 div.sk-label-container {text-align: center;}#sk-container-id-1 div.sk-container {/* jupyter's `normalize.less` sets `[hidden] { display: none; }` but bootstrap.min.css set `[hidden] { display: none !important; }` so we also need the `!important` here to be able to override the default hidden behavior on the sphinx rendered scikit-learn.org. See: https://github.com/scikit-learn/scikit-learn/issues/21755 */display: inline-block !important;position: relative;}#sk-container-id-1 div.sk-text-repr-fallback {display: none;}</style><div id=\"sk-container-id-1\" class=\"sk-top-container\"><div class=\"sk-text-repr-fallback\"><pre>VotingRegressor(estimators=[(&#x27;lgb_0&#x27;,\n",
       "                             CustomLGBMRegressor(bagging_fraction=0.5485770314992224,\n",
       "                                                 bagging_freq=7,\n",
       "                                                 colsample_bynode=0.5110355095943208,\n",
       "                                                 colsample_bytree=0.7759862336963801,\n",
       "                                                 lambda_l1=0.005116829730239727,\n",
       "                                                 lambda_l2=0.0011520776712645852,\n",
       "                                                 learning_rate=0.02376367323636638,\n",
       "                                                 max_depth=5,\n",
       "                                                 min_data_in_leaf=78,\n",
       "                                                 n_iter=200, num_leaves=207,\n",
       "                                                 objective=&#x27;l2&#x27;,...\n",
       "                            (&#x27;lgb_9&#x27;,\n",
       "                             CustomLGBMRegressor(bagging_fraction=0.5485770314992224,\n",
       "                                                 bagging_freq=7,\n",
       "                                                 colsample_bynode=0.5110355095943208,\n",
       "                                                 colsample_bytree=0.7759862336963801,\n",
       "                                                 lambda_l1=0.005116829730239727,\n",
       "                                                 lambda_l2=0.0011520776712645852,\n",
       "                                                 learning_rate=0.02376367323636638,\n",
       "                                                 max_depth=5,\n",
       "                                                 min_data_in_leaf=78,\n",
       "                                                 n_iter=200, num_leaves=207,\n",
       "                                                 objective=&#x27;l2&#x27;,\n",
       "                                                 random_state=102,\n",
       "                                                 verbosity=-1))])</pre><b>In a Jupyter environment, please rerun this cell to show the HTML representation or trust the notebook. <br />On GitHub, the HTML representation is unable to render, please try loading this page with nbviewer.org.</b></div><div class=\"sk-container\" hidden><div class=\"sk-item sk-dashed-wrapped\"><div class=\"sk-label-container\"><div class=\"sk-label sk-toggleable\"><input class=\"sk-toggleable__control sk-hidden--visually\" id=\"sk-estimator-id-1\" type=\"checkbox\" ><label for=\"sk-estimator-id-1\" class=\"sk-toggleable__label sk-toggleable__label-arrow\">VotingRegressor</label><div class=\"sk-toggleable__content\"><pre>VotingRegressor(estimators=[(&#x27;lgb_0&#x27;,\n",
       "                             CustomLGBMRegressor(bagging_fraction=0.5485770314992224,\n",
       "                                                 bagging_freq=7,\n",
       "                                                 colsample_bynode=0.5110355095943208,\n",
       "                                                 colsample_bytree=0.7759862336963801,\n",
       "                                                 lambda_l1=0.005116829730239727,\n",
       "                                                 lambda_l2=0.0011520776712645852,\n",
       "                                                 learning_rate=0.02376367323636638,\n",
       "                                                 max_depth=5,\n",
       "                                                 min_data_in_leaf=78,\n",
       "                                                 n_iter=200, num_leaves=207,\n",
       "                                                 objective=&#x27;l2&#x27;,...\n",
       "                            (&#x27;lgb_9&#x27;,\n",
       "                             CustomLGBMRegressor(bagging_fraction=0.5485770314992224,\n",
       "                                                 bagging_freq=7,\n",
       "                                                 colsample_bynode=0.5110355095943208,\n",
       "                                                 colsample_bytree=0.7759862336963801,\n",
       "                                                 lambda_l1=0.005116829730239727,\n",
       "                                                 lambda_l2=0.0011520776712645852,\n",
       "                                                 learning_rate=0.02376367323636638,\n",
       "                                                 max_depth=5,\n",
       "                                                 min_data_in_leaf=78,\n",
       "                                                 n_iter=200, num_leaves=207,\n",
       "                                                 objective=&#x27;l2&#x27;,\n",
       "                                                 random_state=102,\n",
       "                                                 verbosity=-1))])</pre></div></div></div><div class=\"sk-parallel\"><div class=\"sk-parallel-item\"><div class=\"sk-item\"><div class=\"sk-label-container\"><div class=\"sk-label sk-toggleable\"><label>lgb_0</label></div></div><div class=\"sk-serial\"><div class=\"sk-item\"><div class=\"sk-estimator sk-toggleable\"><input class=\"sk-toggleable__control sk-hidden--visually\" id=\"sk-estimator-id-2\" type=\"checkbox\" ><label for=\"sk-estimator-id-2\" class=\"sk-toggleable__label sk-toggleable__label-arrow\">CustomLGBMRegressor</label><div class=\"sk-toggleable__content\"><pre>CustomLGBMRegressor(bagging_fraction=0.5485770314992224, bagging_freq=7,\n",
       "                    colsample_bynode=0.5110355095943208,\n",
       "                    colsample_bytree=0.7759862336963801,\n",
       "                    lambda_l1=0.005116829730239727,\n",
       "                    lambda_l2=0.0011520776712645852,\n",
       "                    learning_rate=0.02376367323636638, max_depth=5,\n",
       "                    min_data_in_leaf=78, n_iter=200, num_leaves=207,\n",
       "                    objective=&#x27;l2&#x27;, random_state=12, verbosity=-1)</pre></div></div></div></div></div></div><div class=\"sk-parallel-item\"><div class=\"sk-item\"><div class=\"sk-label-container\"><div class=\"sk-label sk-toggleable\"><label>lgb_1</label></div></div><div class=\"sk-serial\"><div class=\"sk-item\"><div class=\"sk-estimator sk-toggleable\"><input class=\"sk-toggleable__control sk-hidden--visually\" id=\"sk-estimator-id-3\" type=\"checkbox\" ><label for=\"sk-estimator-id-3\" class=\"sk-toggleable__label sk-toggleable__label-arrow\">CustomLGBMRegressor</label><div class=\"sk-toggleable__content\"><pre>CustomLGBMRegressor(bagging_fraction=0.5485770314992224, bagging_freq=7,\n",
       "                    colsample_bynode=0.5110355095943208,\n",
       "                    colsample_bytree=0.7759862336963801,\n",
       "                    lambda_l1=0.005116829730239727,\n",
       "                    lambda_l2=0.0011520776712645852,\n",
       "                    learning_rate=0.02376367323636638, max_depth=5,\n",
       "                    min_data_in_leaf=78, n_iter=200, num_leaves=207,\n",
       "                    objective=&#x27;l2&#x27;, random_state=22, verbosity=-1)</pre></div></div></div></div></div></div><div class=\"sk-parallel-item\"><div class=\"sk-item\"><div class=\"sk-label-container\"><div class=\"sk-label sk-toggleable\"><label>lgb_2</label></div></div><div class=\"sk-serial\"><div class=\"sk-item\"><div class=\"sk-estimator sk-toggleable\"><input class=\"sk-toggleable__control sk-hidden--visually\" id=\"sk-estimator-id-4\" type=\"checkbox\" ><label for=\"sk-estimator-id-4\" class=\"sk-toggleable__label sk-toggleable__label-arrow\">CustomLGBMRegressor</label><div class=\"sk-toggleable__content\"><pre>CustomLGBMRegressor(bagging_fraction=0.5485770314992224, bagging_freq=7,\n",
       "                    colsample_bynode=0.5110355095943208,\n",
       "                    colsample_bytree=0.7759862336963801,\n",
       "                    lambda_l1=0.005116829730239727,\n",
       "                    lambda_l2=0.0011520776712645852,\n",
       "                    learning_rate=0.02376367323636638, max_depth=5,\n",
       "                    min_data_in_leaf=78, n_iter=200, num_leaves=207,\n",
       "                    objective=&#x27;l2&#x27;, random_state=32, verbosity=-1)</pre></div></div></div></div></div></div><div class=\"sk-parallel-item\"><div class=\"sk-item\"><div class=\"sk-label-container\"><div class=\"sk-label sk-toggleable\"><label>lgb_3</label></div></div><div class=\"sk-serial\"><div class=\"sk-item\"><div class=\"sk-estimator sk-toggleable\"><input class=\"sk-toggleable__control sk-hidden--visually\" id=\"sk-estimator-id-5\" type=\"checkbox\" ><label for=\"sk-estimator-id-5\" class=\"sk-toggleable__label sk-toggleable__label-arrow\">CustomLGBMRegressor</label><div class=\"sk-toggleable__content\"><pre>CustomLGBMRegressor(bagging_fraction=0.5485770314992224, bagging_freq=7,\n",
       "                    colsample_bynode=0.5110355095943208,\n",
       "                    colsample_bytree=0.7759862336963801,\n",
       "                    lambda_l1=0.005116829730239727,\n",
       "                    lambda_l2=0.0011520776712645852,\n",
       "                    learning_rate=0.02376367323636638, max_depth=5,\n",
       "                    min_data_in_leaf=78, n_iter=200, num_leaves=207,\n",
       "                    objective=&#x27;l2&#x27;, random_state=42, verbosity=-1)</pre></div></div></div></div></div></div><div class=\"sk-parallel-item\"><div class=\"sk-item\"><div class=\"sk-label-container\"><div class=\"sk-label sk-toggleable\"><label>lgb_4</label></div></div><div class=\"sk-serial\"><div class=\"sk-item\"><div class=\"sk-estimator sk-toggleable\"><input class=\"sk-toggleable__control sk-hidden--visually\" id=\"sk-estimator-id-6\" type=\"checkbox\" ><label for=\"sk-estimator-id-6\" class=\"sk-toggleable__label sk-toggleable__label-arrow\">CustomLGBMRegressor</label><div class=\"sk-toggleable__content\"><pre>CustomLGBMRegressor(bagging_fraction=0.5485770314992224, bagging_freq=7,\n",
       "                    colsample_bynode=0.5110355095943208,\n",
       "                    colsample_bytree=0.7759862336963801,\n",
       "                    lambda_l1=0.005116829730239727,\n",
       "                    lambda_l2=0.0011520776712645852,\n",
       "                    learning_rate=0.02376367323636638, max_depth=5,\n",
       "                    min_data_in_leaf=78, n_iter=200, num_leaves=207,\n",
       "                    objective=&#x27;l2&#x27;, random_state=52, verbosity=-1)</pre></div></div></div></div></div></div><div class=\"sk-parallel-item\"><div class=\"sk-item\"><div class=\"sk-label-container\"><div class=\"sk-label sk-toggleable\"><label>lgb_5</label></div></div><div class=\"sk-serial\"><div class=\"sk-item\"><div class=\"sk-estimator sk-toggleable\"><input class=\"sk-toggleable__control sk-hidden--visually\" id=\"sk-estimator-id-7\" type=\"checkbox\" ><label for=\"sk-estimator-id-7\" class=\"sk-toggleable__label sk-toggleable__label-arrow\">CustomLGBMRegressor</label><div class=\"sk-toggleable__content\"><pre>CustomLGBMRegressor(bagging_fraction=0.5485770314992224, bagging_freq=7,\n",
       "                    colsample_bynode=0.5110355095943208,\n",
       "                    colsample_bytree=0.7759862336963801,\n",
       "                    lambda_l1=0.005116829730239727,\n",
       "                    lambda_l2=0.0011520776712645852,\n",
       "                    learning_rate=0.02376367323636638, max_depth=5,\n",
       "                    min_data_in_leaf=78, n_iter=200, num_leaves=207,\n",
       "                    objective=&#x27;l2&#x27;, random_state=62, verbosity=-1)</pre></div></div></div></div></div></div><div class=\"sk-parallel-item\"><div class=\"sk-item\"><div class=\"sk-label-container\"><div class=\"sk-label sk-toggleable\"><label>lgb_6</label></div></div><div class=\"sk-serial\"><div class=\"sk-item\"><div class=\"sk-estimator sk-toggleable\"><input class=\"sk-toggleable__control sk-hidden--visually\" id=\"sk-estimator-id-8\" type=\"checkbox\" ><label for=\"sk-estimator-id-8\" class=\"sk-toggleable__label sk-toggleable__label-arrow\">CustomLGBMRegressor</label><div class=\"sk-toggleable__content\"><pre>CustomLGBMRegressor(bagging_fraction=0.5485770314992224, bagging_freq=7,\n",
       "                    colsample_bynode=0.5110355095943208,\n",
       "                    colsample_bytree=0.7759862336963801,\n",
       "                    lambda_l1=0.005116829730239727,\n",
       "                    lambda_l2=0.0011520776712645852,\n",
       "                    learning_rate=0.02376367323636638, max_depth=5,\n",
       "                    min_data_in_leaf=78, n_iter=200, num_leaves=207,\n",
       "                    objective=&#x27;l2&#x27;, random_state=72, verbosity=-1)</pre></div></div></div></div></div></div><div class=\"sk-parallel-item\"><div class=\"sk-item\"><div class=\"sk-label-container\"><div class=\"sk-label sk-toggleable\"><label>lgb_7</label></div></div><div class=\"sk-serial\"><div class=\"sk-item\"><div class=\"sk-estimator sk-toggleable\"><input class=\"sk-toggleable__control sk-hidden--visually\" id=\"sk-estimator-id-9\" type=\"checkbox\" ><label for=\"sk-estimator-id-9\" class=\"sk-toggleable__label sk-toggleable__label-arrow\">CustomLGBMRegressor</label><div class=\"sk-toggleable__content\"><pre>CustomLGBMRegressor(bagging_fraction=0.5485770314992224, bagging_freq=7,\n",
       "                    colsample_bynode=0.5110355095943208,\n",
       "                    colsample_bytree=0.7759862336963801,\n",
       "                    lambda_l1=0.005116829730239727,\n",
       "                    lambda_l2=0.0011520776712645852,\n",
       "                    learning_rate=0.02376367323636638, max_depth=5,\n",
       "                    min_data_in_leaf=78, n_iter=200, num_leaves=207,\n",
       "                    objective=&#x27;l2&#x27;, random_state=82, verbosity=-1)</pre></div></div></div></div></div></div><div class=\"sk-parallel-item\"><div class=\"sk-item\"><div class=\"sk-label-container\"><div class=\"sk-label sk-toggleable\"><label>lgb_8</label></div></div><div class=\"sk-serial\"><div class=\"sk-item\"><div class=\"sk-estimator sk-toggleable\"><input class=\"sk-toggleable__control sk-hidden--visually\" id=\"sk-estimator-id-10\" type=\"checkbox\" ><label for=\"sk-estimator-id-10\" class=\"sk-toggleable__label sk-toggleable__label-arrow\">CustomLGBMRegressor</label><div class=\"sk-toggleable__content\"><pre>CustomLGBMRegressor(bagging_fraction=0.5485770314992224, bagging_freq=7,\n",
       "                    colsample_bynode=0.5110355095943208,\n",
       "                    colsample_bytree=0.7759862336963801,\n",
       "                    lambda_l1=0.005116829730239727,\n",
       "                    lambda_l2=0.0011520776712645852,\n",
       "                    learning_rate=0.02376367323636638, max_depth=5,\n",
       "                    min_data_in_leaf=78, n_iter=200, num_leaves=207,\n",
       "                    objective=&#x27;l2&#x27;, random_state=92, verbosity=-1)</pre></div></div></div></div></div></div><div class=\"sk-parallel-item\"><div class=\"sk-item\"><div class=\"sk-label-container\"><div class=\"sk-label sk-toggleable\"><label>lgb_9</label></div></div><div class=\"sk-serial\"><div class=\"sk-item\"><div class=\"sk-estimator sk-toggleable\"><input class=\"sk-toggleable__control sk-hidden--visually\" id=\"sk-estimator-id-11\" type=\"checkbox\" ><label for=\"sk-estimator-id-11\" class=\"sk-toggleable__label sk-toggleable__label-arrow\">CustomLGBMRegressor</label><div class=\"sk-toggleable__content\"><pre>CustomLGBMRegressor(bagging_fraction=0.5485770314992224, bagging_freq=7,\n",
       "                    colsample_bynode=0.5110355095943208,\n",
       "                    colsample_bytree=0.7759862336963801,\n",
       "                    lambda_l1=0.005116829730239727,\n",
       "                    lambda_l2=0.0011520776712645852,\n",
       "                    learning_rate=0.02376367323636638, max_depth=5,\n",
       "                    min_data_in_leaf=78, n_iter=200, num_leaves=207,\n",
       "                    objective=&#x27;l2&#x27;, random_state=102, verbosity=-1)</pre></div></div></div></div></div></div></div></div></div></div>"
      ],
      "text/plain": [
       "VotingRegressor(estimators=[('lgb_0',\n",
       "                             CustomLGBMRegressor(bagging_fraction=0.5485770314992224,\n",
       "                                                 bagging_freq=7,\n",
       "                                                 colsample_bynode=0.5110355095943208,\n",
       "                                                 colsample_bytree=0.7759862336963801,\n",
       "                                                 lambda_l1=0.005116829730239727,\n",
       "                                                 lambda_l2=0.0011520776712645852,\n",
       "                                                 learning_rate=0.02376367323636638,\n",
       "                                                 max_depth=5,\n",
       "                                                 min_data_in_leaf=78,\n",
       "                                                 n_iter=200, num_leaves=207,\n",
       "                                                 objective='l2',...\n",
       "                            ('lgb_9',\n",
       "                             CustomLGBMRegressor(bagging_fraction=0.5485770314992224,\n",
       "                                                 bagging_freq=7,\n",
       "                                                 colsample_bynode=0.5110355095943208,\n",
       "                                                 colsample_bytree=0.7759862336963801,\n",
       "                                                 lambda_l1=0.005116829730239727,\n",
       "                                                 lambda_l2=0.0011520776712645852,\n",
       "                                                 learning_rate=0.02376367323636638,\n",
       "                                                 max_depth=5,\n",
       "                                                 min_data_in_leaf=78,\n",
       "                                                 n_iter=200, num_leaves=207,\n",
       "                                                 objective='l2',\n",
       "                                                 random_state=102,\n",
       "                                                 verbosity=-1))])"
      ]
     },
     "execution_count": 24,
     "metadata": {},
     "output_type": "execute_result"
    }
   ],
   "source": [
    "X = df_train[feature_cols]\n",
    "y = df_train[target_col]\n",
    "\n",
    "model.fit(X, y)"
   ]
  },
  {
   "cell_type": "markdown",
   "id": "93d897b0",
   "metadata": {
    "papermill": {
     "duration": 0.026893,
     "end_time": "2025-02-05T14:29:31.075705",
     "exception": false,
     "start_time": "2025-02-05T14:29:31.048812",
     "status": "completed"
    },
    "tags": []
   },
   "source": [
    "### Prediction"
   ]
  },
  {
   "cell_type": "code",
   "execution_count": 25,
   "id": "ecc1a770",
   "metadata": {
    "execution": {
     "iopub.execute_input": "2025-02-05T14:29:31.130243Z",
     "iopub.status.busy": "2025-02-05T14:29:31.129846Z",
     "iopub.status.idle": "2025-02-05T14:29:31.238585Z",
     "shell.execute_reply": "2025-02-05T14:29:31.237417Z"
    },
    "papermill": {
     "duration": 0.138993,
     "end_time": "2025-02-05T14:29:31.241097",
     "exception": false,
     "start_time": "2025-02-05T14:29:31.102104",
     "status": "completed"
    },
    "tags": []
   },
   "outputs": [],
   "source": [
    "df_subm[target_col] = model.predict(df_test[feature_cols])\n",
    "df_subm[target_col] = df_subm[target_col].round()\n",
    "\n",
    "df_subm.to_csv('submission.csv')"
   ]
  },
  {
   "cell_type": "code",
   "execution_count": null,
   "id": "e7041258",
   "metadata": {
    "papermill": {
     "duration": 0.026548,
     "end_time": "2025-02-05T14:29:31.294810",
     "exception": false,
     "start_time": "2025-02-05T14:29:31.268262",
     "status": "completed"
    },
    "tags": []
   },
   "outputs": [],
   "source": []
  }
 ],
 "metadata": {
  "kaggle": {
   "accelerator": "none",
   "dataSources": [
    {
     "databundleVersionId": 9643020,
     "sourceId": 81933,
     "sourceType": "competition"
    }
   ],
   "dockerImageVersionId": 30761,
   "isGpuEnabled": false,
   "isInternetEnabled": false,
   "language": "python",
   "sourceType": "notebook"
  },
  "kernelspec": {
   "display_name": "Python 3",
   "language": "python",
   "name": "python3"
  },
  "language_info": {
   "codemirror_mode": {
    "name": "ipython",
    "version": 3
   },
   "file_extension": ".py",
   "mimetype": "text/x-python",
   "name": "python",
   "nbconvert_exporter": "python",
   "pygments_lexer": "ipython3",
   "version": "3.10.14"
  },
  "papermill": {
   "default_parameters": {},
   "duration": 124.254118,
   "end_time": "2025-02-05T14:29:32.143160",
   "environment_variables": {},
   "exception": null,
   "input_path": "__notebook__.ipynb",
   "output_path": "__notebook__.ipynb",
   "parameters": {},
   "start_time": "2025-02-05T14:27:27.889042",
   "version": "2.6.0"
  }
 },
 "nbformat": 4,
 "nbformat_minor": 5
}
